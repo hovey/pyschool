{
 "cells": [
  {
   "cell_type": "markdown",
   "id": "73b034b3-b710-4dfe-874c-d4992250c56d",
   "metadata": {},
   "source": [
    "# Domain Modeling\n",
    "\n",
    "[Book Code](https://github.com/cosmicpython/code/tree/chapter_01_domain_model_exercise)\n",
    "\n",
    "* How can we model business practices with code in a way that is compatible with TDD?\n",
    "\n",
    "## What is a Domain Model?\n",
    "\n",
    "* *Domain* is the problem you're trying to solve\n",
    "* A *domain model* is the mental map clients have of the problem\n",
    "* Jargon arises naturally in a domain model\n",
    "\n",
    "* **Read Domain-Driven Design by Eric Evans**\n",
    "* **Read Implementing Domain-Driving Design by Vaughn Vernon**\n",
    "* Main idea: Software is valuable when it is a useful model of a problem.\n",
    "\n",
    "### Minimal Example\n",
    "This is an example of notes we might take for a company\n",
    "\n",
    "* A product is defined by a SKU.\n",
    "* Customers place orders\n",
    "* An order is IDed by an order reference and comprises multiple order lines, where each line contains a SKU and a quantity\n",
    "* The purchasing department orders batches of stock. A batch of stock has a unique ID called a reference, an SKU, and a quantity\n",
    "* We need to allocate order lines to batches. When we've allocated an order line to a batch, we need to send units from that batch to the customer's address.\n",
    "* When we allocate x units of stock from a batch, the available quantity is reduced by x.\n",
    "* We can't allocate to a batch if the available quantity is less than the quantity of the order line.\n",
    "* We can't allocate the same line twice.\n",
    "* If we allocate the same line twice, the quantity should remain unchanged\n",
    "* Batches have an ETA if they are currently shipping. Else, they may be in warehouse stock.\n",
    "* We prefer to allocate to warehouse stock.\n",
    "* If there isn't enough warehouse stock, we prefer to allocate to batches with the smallest ETA"
   ]
  }
 ],
 "metadata": {
  "kernelspec": {
   "display_name": "pyschool-env",
   "language": "python",
   "name": "pyschool-env"
  },
  "language_info": {
   "codemirror_mode": {
    "name": "ipython",
    "version": 3
   },
   "file_extension": ".py",
   "mimetype": "text/x-python",
   "name": "python",
   "nbconvert_exporter": "python",
   "pygments_lexer": "ipython3",
   "version": "3.9.7"
  }
 },
 "nbformat": 4,
 "nbformat_minor": 5
}
