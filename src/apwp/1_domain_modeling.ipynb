{
 "cells": [
  {
   "cell_type": "markdown",
   "id": "73b034b3-b710-4dfe-874c-d4992250c56d",
   "metadata": {},
   "source": [
    "# Domain Modeling\n",
    "\n",
    "[Book Code](https://github.com/cosmicpython/code/tree/chapter_01_domain_model_exercise)\n",
    "\n",
    "* How can we model business practices with code in a way that is compatible with TDD?\n",
    "\n",
    "## What is a Domain Model?\n",
    "\n",
    "* *Domain* is the problem you're trying to solve\n",
    "* A *domain model* is the mental map clients have of the problem\n",
    "* Jargon arises naturally in a domain model\n",
    "\n",
    "* **Read Domain-Driven Design by Eric Evans**\n",
    "* **Read Implementing Domain-Driving Design by Vaughn Vernon**\n",
    "* Main idea: Software is valuable when it is a useful model of a problem.\n",
    "\n",
    "### Minimal Example\n",
    "This is an example of notes we might take for a company\n",
    "\n",
    "* A product is defined by a SKU.\n",
    "* Customers place orders\n",
    "* An order is IDed by an order reference and comprises multiple order lines, where each line contains a SKU and a quantity\n",
    "* The purchasing department orders batches of stock. A batch of stock has a unique ID called a reference, an SKU, and a quantity\n",
    "* We need to allocate order lines to batches. When we've allocated an order line to a batch, we need to send units from that batch to the customer's address.\n",
    "* When we allocate x units of stock from a batch, the available quantity is reduced by x.\n",
    "* We can't allocate to a batch if the available quantity is less than the quantity of the order line.\n",
    "* We can't allocate the same line twice.\n",
    "* If we allocate the same line twice, the quantity should remain unchanged\n",
    "* Batches have an ETA if they are currently shipping. Else, they may be in warehouse stock.\n",
    "* We prefer to allocate to warehouse stock.\n",
    "* If there isn't enough warehouse stock, we prefer to allocate to batches with the smallest ETA\n",
    "\n",
    "* The [chapter 1 code](https://github.com/hovey/pyschool/tree/master/src/apwp/code/chapter_01) does implements according to the above spec.\n",
    "* Notice how our tests are named using domain jargon.\n",
    "* This is ripe for BDD tbh.\n",
    "\n",
    "## Value Objects\n",
    "\n",
    "* `OrderLine` is implemented as a `NamedTuple`. This is an example of something that follows the *Value Object Pattern*\n",
    "* A value object is something that contains data, but no identity. \n",
    "* They are typically immutable\n",
    "* Because they don't have an identity, we can do operations with them.\n",
    "* `dataclass` and `NamedTuple` are both examples of value objects"
   ]
  },
  {
   "cell_type": "code",
   "execution_count": 13,
   "id": "fb37b03a-185d-4f08-bae3-6dcdea565154",
   "metadata": {},
   "outputs": [],
   "source": [
    "from dataclasses import dataclass\n",
    "from typing import NamedTuple\n",
    "\n",
    "class Name(NamedTuple):\n",
    "    first: str\n",
    "    last: str\n",
    "\n",
    "@dataclass(frozen=True)\n",
    "class Money:\n",
    "    currency: str\n",
    "    value: int\n",
    "    \n",
    "    def __add__(self, other):\n",
    "        if self.currency == other.currency:\n",
    "            return Money(currency=self.currency, value=self.value + other.value)\n",
    "    \n",
    "    \n",
    "john = Name(first=\"john\", last=\"doe\")\n",
    "jane = Name(first=\"jane\", last=\"doe\")\n",
    "assert john != jane\n",
    "\n",
    "fiver = Money(currency=\"usd\", value=5)\n",
    "tenner = Money(currency=\"usd\", value=10)\n",
    "assert fiver + fiver == tenner"
   ]
  },
  {
   "cell_type": "markdown",
   "id": "206d1678-8e59-4acd-9503-c9fbdc158389",
   "metadata": {},
   "source": [
    "## Entities\n",
    "\n",
    "* Value objects don't have a unique identifier. They are completely determined by the data they contain.\n",
    "* On the other hand, our implementation of `Batch` does have a unique identified. This makes it an `Entity`."
   ]
  },
  {
   "cell_type": "code",
   "execution_count": 14,
   "id": "6a9addbb-a9ec-4718-801a-9cd196c84bab",
   "metadata": {},
   "outputs": [],
   "source": [
    "class Person:\n",
    "    # A person is an entity. They are the same person, independent of whether their name changes\n",
    "    def __init__(self, *, name: Name):\n",
    "        self.name = name\n",
    "        \n",
    "john_doe = Person(name=john)"
   ]
  },
  {
   "cell_type": "code",
   "execution_count": null,
   "id": "7e887889-f8ca-4c8d-b5af-7588831745aa",
   "metadata": {},
   "outputs": [],
   "source": []
  }
 ],
 "metadata": {
  "kernelspec": {
   "display_name": "pyschool-env",
   "language": "python",
   "name": "pyschool-env"
  },
  "language_info": {
   "codemirror_mode": {
    "name": "ipython",
    "version": 3
   },
   "file_extension": ".py",
   "mimetype": "text/x-python",
   "name": "python",
   "nbconvert_exporter": "python",
   "pygments_lexer": "ipython3",
   "version": "3.9.7"
  }
 },
 "nbformat": 4,
 "nbformat_minor": 5
}
