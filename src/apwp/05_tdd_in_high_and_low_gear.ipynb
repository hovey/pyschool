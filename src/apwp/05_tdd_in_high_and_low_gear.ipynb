{
 "cells": [
  {
   "cell_type": "markdown",
   "id": "bdbd7c71-d904-479d-8c01-81a1d77429d9",
   "metadata": {},
   "source": [
    "# TDD in High Gear and Low Gear\n",
    "\n",
    "* In the previous chapter, we added a service layer, which helps clearly define our use cases and workflows.\n",
    "* Still, most of our unit tests are operating on the model.\n",
    "* Is there an advantage to moving these tests up to the service layer?\n",
    "\n",
    "## How Is Our Test Pyramid Looking?\n",
    "\n",
    "* If we organise our tests in folders: *tests/unit/*, *tests/integration/*, *tests/e2e*, we can use `grep -c test_ test_*.py` to count how many of each we have.\n",
    "* If we `num_unit > num_integration > num_e2e`, our test pyramid is looking good.\n",
    "\n",
    "## Should Domain Layer Tests Move To The Service Layer?\n",
    "\n",
    "* Let's look at the same test in the domain layer and in the service layer."
   ]
  },
  {
   "cell_type": "code",
   "execution_count": 2,
   "id": "6c73957d-a820-4eea-aab2-c70e14e27e57",
   "metadata": {},
   "outputs": [],
   "source": [
    "# domain-layer test\n",
    "def test_prefers_current_stock_batches_to_shipments():\n",
    "    in_stock_batch = model.Batch(\"in-stock-batch\", \"chair\", 100, eta=date.today())\n",
    "    shipment_batch = model.Batch(\"shipment-batch\", \"chair\", 100, eta=date.tomorrow())\n",
    "    line = model.OrderLine(\"oref\", \"chair\", 10)\n",
    "    \n",
    "    model.allocate(line, [in_stock_batch, shipment_batch])\n",
    "    \n",
    "    assert in_stock_batch.available_quantity == 90\n",
    "    assert shipment_batch.available_quantity == 100\n",
    "    \n",
    "# service-layer test\n",
    "def test_prefers_warehouse_batches_to_shipments():\n",
    "    in_stock_batch = model.Batch(\"in-stock-batch\", \"chair\", 100, eta=date.today())\n",
    "    shipment_batch = model.Batch(\"shipment-batch\", \"chair\", 100, eta=date.tomorrow())\n",
    "    line = model.OrderLine(\"oref\", \"chair\", 10)\n",
    "    \n",
    "    repo = FakeRepository([in_stock_batch, shipment_batch])\n",
    "    session = FakeSession()\n",
    "    \n",
    "    services.allocate(line, repo, session)\n",
    "    \n",
    "    assert in_stock_batch.available_quantity == 90\n",
    "    assert shipment_batch.available_quantity == 100    "
   ]
  },
  {
   "cell_type": "markdown",
   "id": "a924d1ed-dd4c-4bec-b5f2-a680d0d6f8fc",
   "metadata": {},
   "source": [
    "* Recall that the domain model is the part of our code most likely to change quickly.\n",
    "* Writing many unit tests against something so fluid can discourage teams from making necessary changes.\n",
    "* Testing against the service layer rather than the domain model means that we can still check the domain model's behaviour without relying on its implementation.\n",
    "\n",
    "## On Deciding What Kind Of Tests To Write\n",
    "\n",
    "* Should you then refactor away all domain model tests?\n",
    "* When we find that code is difficult to use or has a code smell, you should refactor.\n",
    "* However, tests at a high level, e.g., e2e tests, tell us nothing about the fine-grained design of our objects.\n",
    "* On the other hand, we can change the entire implementation of our domain. If our high-level test still passes, it gives us confidence that a large-scale change hasn't broken the code.\n",
    "* It often makes sense to start by using tests to sketch out the design at a low level. At some point, though, we will need to replace or delete these tests because they are tightly coupled to implementation.\n",
    "\n",
    "## High and Low Gear\n",
    "\n",
    "* When adding a new feature or fixing a bug, we don't need to make big changes to the domain model.\n",
    "* In such cases, we prefer to write tests against services because of lower coupling and higher coverage.\n",
    "* When starting a new project or hitting a difficult problem, drop back down to writing tests against to domain model so that you get more direct feedback.\n",
    "* The analogy is akin to shifting gears on a bicycle. At the start, we begin in low gear to overcome inertia. Once we've built some momentum up, we shift into a high gear. If we encounter a steep climb, we should shift back into low gear.\n",
    "\n",
    "## Fully Decoupling Service Layer Tests From The Domain\n",
    "\n",
    "* Our service layer tests still explicitly depend on the domain not changing, as in using `model.OrderLine` and `model.Batch`.\n",
    "    * If the implementation of either of these changes, we'll need to refactor all affected tests\n",
    "* Instead we can use fixtures that work with primitives."
   ]
  },
  {
   "cell_type": "code",
   "execution_count": 4,
   "id": "9809cb0a-38a6-4c96-9693-6335cb52b943",
   "metadata": {},
   "outputs": [],
   "source": [
    "class FakeRepository:\n",
    "    \n",
    "    @staticmethod\n",
    "    def for_batch(ref, sku, quantity, eta):\n",
    "        return FakeRepository([model.Batch(ref, sku, quantity, eta)])"
   ]
  },
  {
   "cell_type": "markdown",
   "id": "a712510c-3f11-4ea8-9f91-0c45ee76f604",
   "metadata": {},
   "source": [
    "* Now, the dependency only happens in one place, so we only need to fix a single line.\n",
    "\n",
    "### Adding A Missing Service\n",
    "\n",
    "* Oftentimes, however, if we find ourselves adding domain-layer stuff into our service-layer tests, this just means that our service layer is incomplete.\n",
    "    * For example, instead of the above modification of `FakeRepository`, we can create a new service-layer function `add_batch`"
   ]
  },
  {
   "cell_type": "code",
   "execution_count": 5,
   "id": "44bf75e7-f741-46a2-b51e-c8b6cf96e1b4",
   "metadata": {},
   "outputs": [],
   "source": [
    "def add_batch(ref, sku, quantity, eta, repo, session):\n",
    "    repo.add(model.Batch(ref, sku, quantity, eta))\n",
    "    session.commit()"
   ]
  },
  {
   "cell_type": "markdown",
   "id": "369047ca-39a1-44fb-88d4-adc064f2d1f2",
   "metadata": {},
   "source": [
    "* We can test using this function to create batches and add them to the repository.\n",
    "* **Note:** You should not write a new service layer function just to remove a dependency. If you're going to need such a function anyway though, you can use it to clean up your tests.\n",
    "\n",
    "## Wrap Up\n",
    "\n",
    "* Rules of Thumb:\n",
    "    * Aim for one E2E test per feature, which demonstrates the feature actually works as a whole\n",
    "    * Write the bulk of your tests against the service layer\n",
    "    * Maintain a small core of tests against your domain model\n",
    "    * Error-handling counts as a feature\n",
    "    * Express your service layer in terms of primitives rather than in terms of domain objects"
   ]
  }
 ],
 "metadata": {
  "kernelspec": {
   "display_name": "pyschool-env",
   "language": "python",
   "name": "pyschool-env"
  },
  "language_info": {
   "codemirror_mode": {
    "name": "ipython",
    "version": 3
   },
   "file_extension": ".py",
   "mimetype": "text/x-python",
   "name": "python",
   "nbconvert_exporter": "python",
   "pygments_lexer": "ipython3",
   "version": "3.9.7"
  }
 },
 "nbformat": 4,
 "nbformat_minor": 5
}
