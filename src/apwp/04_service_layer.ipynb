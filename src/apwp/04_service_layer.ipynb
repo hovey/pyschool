{
 "cells": [
  {
   "cell_type": "markdown",
   "id": "d0a8e598-4a77-4014-af50-06e9be710081",
   "metadata": {},
   "source": [
    "# Our First Use Case: Flask API and Service Layer\n",
    "\n",
    "* Learn to differentiate orchestration logic, business logic, and interfacing code\n",
    "* Introduce *Service Layer* pattern\n",
    "\n",
    "## Connecting Our Application To The Real World\n",
    "\n",
    "* We have the core of our domain model, and we have the repository pattern for permanent storage.\n",
    "* Let's put together the moving parts as quickly as possible and then refactor\n",
    "* Plan:\n",
    "    1. Use `Flask` to put an API endpoint in front of our `allocate` domain service.\n",
    "Wire up the database session and our repo. Test it with an end-to-end test and some quick SQL to prepare\n",
    "test data.\n",
    "    1. Refactor our a service layer that can serve as an abstraction to capture the use case and that will sit between Flask and our domain model. Build some service layer tests that use `FakeRepository`.\n",
    "    1. Experiment with different types of parameters for our service layer functions.\n",
    "Show that using primitive data types allows the service layer's clients (tests and Flask) to be decoupled from the model layer.\n",
    "\n",
    "## A First End-To-End Test"
   ]
  },
  {
   "cell_type": "code",
   "execution_count": 2,
   "id": "5e0c3ab5-8f52-40b8-9caa-ec37dea7ef4c",
   "metadata": {},
   "outputs": [],
   "source": [
    "import pytest\n",
    "\n",
    "@pytest.mark.usefixtures(\"restart_api\")\n",
    "def test_api_returns_allocation(add_stock):\n",
    "    sku, other_sku = random_sku(), random_sku(\"other\")\n",
    "    early_batch = random_batchref(1)\n",
    "    later_batch = random_batchref(2)\n",
    "    other_batch = random_batchref(3)\n",
    "    add_stock([\n",
    "        (later_batch, sku, 100, \"2022-01-17\"),\n",
    "        (early_batch, sku, 100, \"2022-01-15\"),\n",
    "        (other_batch, othersku, 100, None),\n",
    "    ])\n",
    "    data = {\"orderid\": random_orderid(), \"sku\": sku, \"quantity\": 3}\n",
    "    url = config.get_api_url()\n",
    "    r = requests.post(f\"{url}/allocate\", json=data)\n",
    "    assert r.status_code == 201\n",
    "    assert r.json()[\"batchref\"] == earlybatch"
   ]
  },
  {
   "cell_type": "markdown",
   "id": "607f61a8-6ad9-455d-b0b6-3ef991d502fb",
   "metadata": {},
   "source": [
    "## The Straightforward Implementation"
   ]
  },
  {
   "cell_type": "code",
   "execution_count": 4,
   "id": "cdb1dafc-4f9d-4e86-aef2-752dd188d3d8",
   "metadata": {},
   "outputs": [],
   "source": [
    "from flask import Flask\n",
    "\n",
    "app = Flask(__name__)\n",
    "\n",
    "@app.route(\"/allocate\", methods=[\"POST\"])\n",
    "def allocate_endpoint():\n",
    "    session = get_session()\n",
    "    batches = repository.SqlAlchemyRepository(session).list()\n",
    "    line = model.OrderLine(\n",
    "        request.json[\"orderid\"],\n",
    "        request.json[\"sku\"],\n",
    "        request.json[\"quantity\"],\n",
    "    )\n",
    "    batchref = model.allocate(line, batches)\n",
    "    \n",
    "    return jsonify({\"batchref\": batchref}), 201"
   ]
  },
  {
   "cell_type": "markdown",
   "id": "a63f4693-bbf9-4c41-b9e5-20b444bf7e94",
   "metadata": {},
   "source": [
    "* This doesn't actually save our allocation to the database, but our first test will pass since it doesn't check that!\n",
    "* Need to write a new test to cover this:\n",
    "    * Inspect database state (not black-boxy)\n",
    "    * Can't allocate a second line if the first depleted the batch"
   ]
  },
  {
   "cell_type": "code",
   "execution_count": 5,
   "id": "9e51724d-065a-4d1d-a683-53e96fe24687",
   "metadata": {},
   "outputs": [],
   "source": [
    "@pytest.mark.usefixtures(\"restart_api\")\n",
    "def test_allocations_are_persisted(add_stock):\n",
    "    sku = random_sku()\n",
    "    batch1, batch2 = random_batchref(1), random_batchref(2)\n",
    "    order1, order2 = random_orderid(1), random_orderid(2)\n",
    "    add_stock([\n",
    "        (batch1, sku, 10, \"2022-01-17\"),\n",
    "        (batch2, sku, 10, \"2022-01-18\"),\n",
    "    ])\n",
    "    line1 = {\"orderid\": order1, \"sku\": sku, \"quantity\": 10}\n",
    "    line2 = {\"orderid\": order2, \"sku\": sku, \"quantity\": 10}\n",
    "    url = config.get_api_url()\n",
    "    \n",
    "    # First order uses up all stock in batch 1\n",
    "    r = requests.post(f\"{url}/allocate\", json=line1)\n",
    "    assert r.status_code == 201\n",
    "    assert r.json()[\"batchref\"] == batch1\n",
    "    \n",
    "    # Second order should go to batch 2\n",
    "    r = requests.post(f\"{url}/allocate\", json=line2)\n",
    "    assert r.status_code == 201\n",
    "    assert r.json()[\"batchref\"] == batch2"
   ]
  },
  {
   "cell_type": "markdown",
   "id": "1efe9536-6852-4dee-9483-4ee2a9e4ef69",
   "metadata": {},
   "source": [
    "## Error Conditions That Require Database Checks\n",
    "\n",
    "* This is an ugly test, and our code will only get uglier as we add more of these tests\n",
    "* What if the domain raises an error for an SKU that is out of stock? Or an SKU that doesn't exist?\n",
    "    * These are not things the domain should know about\n",
    "    * These should be at the database level before we hit the domain.\n",
    "    * Testing these would require more e2e tests, which starts to get out of control\n",
    "    * This is called an *inverted testing pyramid*\n",
    "        * We want to have most of the tests at the smallest levels of the code. From most desirable to least:\n",
    "            1. Unit Tests\n",
    "            1. Integration Tests\n",
    "            1. E2E Tests\n",
    "    \n",
    "## Introducing A Service Layer, And Using FakeRepository To Unit Test It\n",
    "\n",
    "* Our Flask app, which should be doing only web stuff like parsing json, is also doing things like checking the database state, handling errors, and updating the database when it should be updated.\n",
    "* The latter stuff is called *orchestration*, *use-cases*, or *services*\n",
    "    * These are an abstraction that sit between the repository and the domain model\n",
    "    * These don't really need to be tested by e2e tests\n",
    "    * You only really need these when orchestration logic starts to seep into the repository or domain\n",
    "* These services are split out into a *Service Layer*/*Orchestration Layer*/*Use-Case Layer*"
   ]
  },
  {
   "cell_type": "code",
   "execution_count": 6,
   "id": "4ff64924-824e-47d6-aa16-3a42a3488709",
   "metadata": {},
   "outputs": [],
   "source": [
    "class FakeRepository:\n",
    "    def __init__(self, batches):\n",
    "        self._batches = set(batches)\n",
    "        \n",
    "    def add(self, batch):\n",
    "        self._batches.add(batch)\n",
    "        \n",
    "    def get(self, reference):\n",
    "        return next(b for b in self._batches if b.reference == reference)\n",
    "    \n",
    "    def list(self):\n",
    "        return list(self._batches)\n",
    "    \n",
    "class FakeSession:\n",
    "    committed = False\n",
    "    \n",
    "    def commit(self):\n",
    "        self.committed = True\n",
    "    \n",
    "def test_returns_allocations():\n",
    "    line = model.OrderLine(\"o1\", \"chair\", 10)\n",
    "    batch = model.Batch(\"b1\", \"chair\", 100)\n",
    "    repo = FakeRepository(batches=[batch])\n",
    "    \n",
    "    result = services.allocate(line, repo, FakeSession())  # service.allocate != model.allocate\n",
    "    assert result == \"b1\""
   ]
  },
  {
   "cell_type": "markdown",
   "id": "60e8e0c0-11c3-4f45-b96b-a3e95b26f021",
   "metadata": {},
   "source": [
    "* Much cleaner! We can now test this functionality without dealing with the Flask API and an actual database.\n",
    "* Our Flask app would call `services.allocate` to deal with the database and domain stuff. It would now only explicitly implement web stuff.\n",
    "\n",
    "## Why Is Everything Called A Service?\n",
    "\n",
    "* What is the difference between a *domain service* and a *service layer*?\n",
    "    * *Domain service* - a piece of logic that belongs to the domain but doesn't sit inside a stateful entity.\n",
    "    * *Service layer* - orchestrates some operation based on requests from the outside\n",
    "    \n",
    "## Wrap-Up\n",
    "  \n",
    "* Pros:\n",
    "    * Use cases in one location\n",
    "    * Our domain logic remains veiled, making it easier to refactor\n",
    "    * Separation of stuff that takes HTTPS from stuff that talks allocation\n",
    "    * When combined with the Repository Pattern, allows us to unit test rather than integration or E2E test.\n",
    "* Cons:\n",
    "    * If the app is purely a web app, controllers/views can capture all the use cases\n",
    "    * Adds another layer of abstraction that can complicate things for newer devs\n",
    "    * Putting too much logic into the service layer leads to the [Anemic Domain anti-pattern](https://en.wikipedia.org/wiki/Anemic_domain_model).\n",
    "    * You could push this logic down to your domain models without needing the extra layer in between. This is known as \"fat models, thin controllers\""
   ]
  }
 ],
 "metadata": {
  "kernelspec": {
   "display_name": "pyschool-env",
   "language": "python",
   "name": "pyschool-env"
  },
  "language_info": {
   "codemirror_mode": {
    "name": "ipython",
    "version": 3
   },
   "file_extension": ".py",
   "mimetype": "text/x-python",
   "name": "python",
   "nbconvert_exporter": "python",
   "pygments_lexer": "ipython3",
   "version": "3.9.7"
  }
 },
 "nbformat": 4,
 "nbformat_minor": 5
}
