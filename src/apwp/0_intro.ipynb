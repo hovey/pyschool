{
 "cells": [
  {
   "cell_type": "markdown",
   "id": "37d8fa2a-85b3-4260-bea5-0bfed6cca847",
   "metadata": {},
   "source": [
    "# Intro\n",
    "\n",
    "* Code that is initially designed well will tend towards disorder over time\n",
    "* \"Chaotic software is characterised by a sameness of function.\"\n",
    "  * Classes do things other than what they were designed to\n",
    "  * Different parts of the code becomes tightly coupled\n",
    "  * Think \"Big Ball of Mud Anti-Pattern\"\n",
    "  \n",
    "* How can we avoid the Big Ball of Mud?"
   ]
  },
  {
   "cell_type": "markdown",
   "id": "a6caac8f-a52c-4444-8f95-6788cd773c10",
   "metadata": {},
   "source": [
    "## Encapsulation and Abstractions\n",
    "\n",
    "* *Encapsulation* - simplifying behaviour\n",
    "  * Identify something our code needs to do and assign it to a function or object.\n",
    "  * This object or function is an *abstraction*\n",
    "  \n",
    "* Compare the following code"
   ]
  },
  {
   "cell_type": "code",
   "execution_count": 1,
   "id": "258ac37e-8726-436f-bf2f-8ff9220c5578",
   "metadata": {},
   "outputs": [
    {
     "name": "stdout",
     "output_type": "stream",
     "text": [
      "https://duckduckgo.com/Pademelon - Pademelon - Pademelons are small marsupials of the genus Thylogale found in Australia and New Guinea. They are some of the smallest members of the family Macropodidae.\n",
      "https://duckduckgo.com/c/Rottnest_Island - Rottnest Island\n",
      "https://duckduckgo.com/c/Macropods - Macropods\n",
      "https://duckduckgo.com/c/Mammals_of_Western_Australia - Mammals of Western Australia\n",
      "https://duckduckgo.com/c/Marsupials_of_Australia - Marsupials of Australia\n",
      "https://duckduckgo.com/c/Vulnerable_fauna_of_Australia - Vulnerable fauna of Australia\n"
     ]
    }
   ],
   "source": [
    "import json\n",
    "from urllib.request import urlopen\n",
    "from urllib.parse import urlencode\n",
    "\n",
    "params = {\n",
    "    \"q\": \"quokka\",\n",
    "    \"format\": \"json\"\n",
    "}\n",
    "handle = urlopen(\"http://api.duckduckgo.com\" + \"?\" + urlencode(params))\n",
    "raw_text = handle.read().decode(\"utf8\")\n",
    "parsed = json.loads(raw_text)\n",
    "results = parsed[\"RelatedTopics\"]\n",
    "for r in results:\n",
    "    if \"Text\" in r:\n",
    "        print(r[\"FirstURL\"] + \" - \" + r[\"Text\"])"
   ]
  },
  {
   "cell_type": "code",
   "execution_count": 2,
   "id": "966c815a-3cd7-4543-bcd4-226402e2b91f",
   "metadata": {},
   "outputs": [
    {
     "name": "stdout",
     "output_type": "stream",
     "text": [
      "https://duckduckgo.com/Pademelon - Pademelon - Pademelons are small marsupials of the genus Thylogale found in Australia and New Guinea. They are some of the smallest members of the family Macropodidae.\n",
      "https://duckduckgo.com/c/Rottnest_Island - Rottnest Island\n",
      "https://duckduckgo.com/c/Macropods - Macropods\n",
      "https://duckduckgo.com/c/Mammals_of_Western_Australia - Mammals of Western Australia\n",
      "https://duckduckgo.com/c/Marsupials_of_Australia - Marsupials of Australia\n",
      "https://duckduckgo.com/c/Vulnerable_fauna_of_Australia - Vulnerable fauna of Australia\n"
     ]
    }
   ],
   "source": [
    "import requests\n",
    "\n",
    "params = {\n",
    "    \"q\": \"quokka\",\n",
    "    \"format\": \"json\"\n",
    "}\n",
    "parsed = requests.get(\"http://api.duckduckgo.com/\", params=params).json()\n",
    "results = parsed[\"RelatedTopics\"]\n",
    "for r in results:\n",
    "    if \"Text\" in r:\n",
    "        print(r[\"FirstURL\"] + \" - \" + r[\"Text\"])"
   ]
  },
  {
   "cell_type": "markdown",
   "id": "e9412f8f-dc30-4207-bccf-17382c4280bf",
   "metadata": {},
   "source": [
    "* The second is more readable, easier to test, and easier to maintain.\n",
    "* [Responsibility-Driven Design](http://www.wirfs-brock.com/Design.html) is very much related to this topic of encapsulation and abstraction.\n",
    "* In Python, it is common to use `ABC` to define an abstraction. However, you can also rely on duck-typing."
   ]
  },
  {
   "cell_type": "markdown",
   "id": "589c9702-9941-4b1a-9295-527ed86cf1f0",
   "metadata": {},
   "source": [
    "## Layering\n",
    "\n",
    "* When a object `A` uses object `B`, we say that object `A` *depends* on object `B`.\n",
    "* These connections form the dependency graph of the software.\n",
    "* Highly-connected dependency graphs make software difficult to modify, as changing one thing can impact many others.\n",
    "* A *layered architecture* is a way to reduce dependencies by dividing the code into certain *roles*. *Rules* govern which roles can talk to each other.\n",
    "\n",
    "### Three-Layered Architecture\n",
    "\n",
    "* Presentation Layer -> Business Layer -> Database Layer\n",
    "* Really common in business software."
   ]
  },
  {
   "cell_type": "markdown",
   "id": "b82abdab-fa13-4395-bc1b-b1ccada3eaa3",
   "metadata": {},
   "source": [
    "## Dependency Inversion Principle\n",
    "\n",
    "1. High level modules should not depend on low level modules.\n",
    "1. Both should depend on abstractions.\n",
    "1. Abstractions should not depend on details.\n",
    "1. Details should depend on abstractions.\n",
    "\n",
    "* *High level objects* - things that the client cares about. For example, in an accounting software, this could be code that handles payroll.\n",
    "* *Low level objects* - things that the client doesn't care about. For example, in an accounting software, this could be code that generates log files."
   ]
  },
  {
   "cell_type": "markdown",
   "id": "b425153a-ea32-432d-9889-d4e0e3ba8320",
   "metadata": {},
   "source": [
    "## The Domain Model\n",
    "\n",
    "* The high level objects (the business logic) should not be spread out throughout the code.\n",
    "* Chapter 1 shows how to build a business layer using the Domain Model pattern."
   ]
  }
 ],
 "metadata": {
  "kernelspec": {
   "display_name": "pyschool-env",
   "language": "python",
   "name": "pyschool-env"
  },
  "language_info": {
   "codemirror_mode": {
    "name": "ipython",
    "version": 3
   },
   "file_extension": ".py",
   "mimetype": "text/x-python",
   "name": "python",
   "nbconvert_exporter": "python",
   "pygments_lexer": "ipython3",
   "version": "3.9.7"
  }
 },
 "nbformat": 4,
 "nbformat_minor": 5
}
