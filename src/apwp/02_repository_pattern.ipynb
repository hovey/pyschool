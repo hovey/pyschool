{
 "cells": [
  {
   "cell_type": "markdown",
   "id": "25ebbf3a-bb1b-4c90-80cb-630e0cc5df13",
   "metadata": {
    "tags": []
   },
   "source": [
    "# Repository Pattern\n",
    "\n",
    "* Enables decoupling model layer from the data layer\n",
    "\n",
    "## Applying the DIP to Data Access\n",
    "\n",
    "* Recall that we're buliding up a 3-layered architecture (presentation layer -> business layer -> data layer)\n",
    "* Our goal is to keep layers separate - each layer should only depend on the layer below it.\n",
    "* However, our domain model should have *no* dependencies.\n",
    "* Infrastructure concerns shouldn't slow our ability to make changes to our domain model\n",
    "* As a result, let's move from our 3-layered architecture to an onion architecture: presentation layer -> domain model <- database layer.\n",
    "\n",
    "## Reminder: Our Model\n",
    "\n",
    "* An `OrderLine` is stored to a `Batch` as an allocation.\n",
    "\n",
    "### The \"Normal\" ORM Way: Model Depends on ORM\n",
    "\n",
    "* Rather than creating custom SQL queries, the team are likely using some framework to generate queries based on model objects.\n",
    "* These frameworks are called *object-relational mappers* (ORMs).\n",
    "* They map objects and domain models to databases and relational algebra.\n",
    "* ORMs give us *persistence ignorance* - domain model doesn't need to know how data is loaded or persisted."
   ]
  },
  {
   "cell_type": "code",
   "execution_count": 6,
   "id": "4f625a66-c7b7-4c4a-81d6-6b3dfa6cf4a4",
   "metadata": {},
   "outputs": [],
   "source": [
    "from sqlalchemy import Column, ForeignKey, Integer, String\n",
    "from sqlalchemy.ext.declarative import declarative_base\n",
    "from sqlalchemy.orm import relationship\n",
    "\n",
    "Base = declarative_base()\n",
    "\n",
    "class Order(Base):\n",
    "    __tablename__ = \"orders\"\n",
    "    id = Column(Integer, primary_key=True)\n",
    "    \n",
    "class OrderLine(Base):\n",
    "    __tablename__ = \"orderline\"\n",
    "    id = Column(Integer, primary_key=True)\n",
    "    sku = Column(String(250))\n",
    "    quantity = Column(Integer)\n",
    "    order_id = Column(Integer, ForeignKey('order.id'))\n",
    "    order = relationship(Order)"
   ]
  },
  {
   "cell_type": "markdown",
   "id": "bafe8c75-a5f8-480e-ae05-a2386ffa78cf",
   "metadata": {},
   "source": [
    "* Model classes above depend on ORM classes. We want this to be the other way around\n",
    "\n",
    "### Inverting the Dependency: ORM Depends on Model\n",
    "\n",
    "* We can invert this relationship by using [classical mapping](https://docs.sqlalchemy.org/en/14/orm/mapping_styles.html#imperative-a-k-a-classical-mappings).\n",
    "* See [the reference code](https://github.com/cosmicpython/code/blob/chapter_02_repository/orm.py)\n",
    "* The `start_mappers` function will associate our model with the database if we call the function. If we never call it, the domain model operates completely independently of the `database` without any issues.\n",
    "\n",
    "## Introducing the Repository Pattern\n",
    "\n",
    "* Abstraction for persistent storage\n",
    "* Hides details about data access by pretending all data is in memory\n",
    "\n",
    "### The Repository in the Abstract\n",
    "\n",
    "* The simplest case has just two methods `add()` and `get()`\n",
    "* Sticking this simplicity stops us from coupling domain model to the database"
   ]
  },
  {
   "cell_type": "code",
   "execution_count": 7,
   "id": "8a57cf69-269b-41aa-97bd-112a7fc2e2ab",
   "metadata": {},
   "outputs": [],
   "source": [
    "from abc import ABC, abstractmethod\n",
    "from typing import Any\n",
    "\n",
    "\n",
    "class AbstractRepository(ABC):\n",
    "    \n",
    "    @abstractmethod\n",
    "    def add(self, val: Any):\n",
    "        pass\n",
    "    \n",
    "    @abstractmethod\n",
    "    def get(self, reference) -> Any:\n",
    "        pass"
   ]
  },
  {
   "cell_type": "markdown",
   "id": "4c0d87eb-a9cf-473d-9c2d-bf00f3054e02",
   "metadata": {},
   "source": [
    "* Here we use ABCs, but many python devs prefer not to use them since they often end up unmaintained.\n",
    "* Many pythonistas prefer [PEP 544](https://www.python.org/dev/peps/pep-0544/), which gives typing without inheritance. I like [this tutorial](https://dev.to/meseta/factories-abstract-base-classes-and-python-s-new-protocols-structural-subtyping-20bm)\n",
    "\n",
    "### What is the Trade-Off?\n",
    "\n",
    "* Pro: Abstraction over storage layer, which we control.\n",
    "* Pro: Building a fake repository for testing is trivial.\n",
    "* Con: Need to add code to our repository class each time we add a new domain object that we want to retrieve.\n",
    "\n",
    "## What is a Port and What is an Adapter in Python?\n",
    "\n",
    "* *Port* - interface between our app and what we want to abstract away\n",
    "* *Adapter* - The implementation behind that interface\n",
    "* In the above, `AbstractRepository` is the port, and any concretions would be adapters.\n",
    "\n",
    "## Wrap-Up\n",
    "\n",
    "* Pros:\n",
    "    * Simple interface between persistent storage and our domain model\n",
    "    * Easy to make a fake repo for unit testing since things are fully-decoupled\n",
    "    * Writing the model before thinging about persistence helps us focus on the actual problem\n",
    "    * Database schema is simple as we have complete control over how we map our objects to tables\n",
    "* Cons:\n",
    "    * An ORM already does some decoupling.\n",
    "    * Maintaining ORM mappings requires extra code\n",
    "    * May confuse new devs"
   ]
  }
 ],
 "metadata": {
  "kernelspec": {
   "display_name": "pyschool-env",
   "language": "python",
   "name": "pyschool-env"
  },
  "language_info": {
   "codemirror_mode": {
    "name": "ipython",
    "version": 3
   },
   "file_extension": ".py",
   "mimetype": "text/x-python",
   "name": "python",
   "nbconvert_exporter": "python",
   "pygments_lexer": "ipython3",
   "version": "3.9.7"
  }
 },
 "nbformat": 4,
 "nbformat_minor": 5
}
